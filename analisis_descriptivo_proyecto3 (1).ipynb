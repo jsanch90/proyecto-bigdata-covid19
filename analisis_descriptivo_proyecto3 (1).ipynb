{
 "cells": [
  {
   "cell_type": "code",
   "execution_count": 1,
   "metadata": {},
   "outputs": [
    {
     "data": {
      "application/vnd.jupyter.widget-view+json": {
       "model_id": "a6f7a9f40d944d1cb0423d58dc58e807",
       "version_major": 2,
       "version_minor": 0
      },
      "text/plain": [
       "VBox()"
      ]
     },
     "metadata": {},
     "output_type": "display_data"
    },
    {
     "name": "stdout",
     "output_type": "stream",
     "text": [
      "Starting Spark application\n"
     ]
    },
    {
     "data": {
      "text/html": [
       "<table>\n",
       "<tr><th>ID</th><th>YARN Application ID</th><th>Kind</th><th>State</th><th>Spark UI</th><th>Driver log</th><th>Current session?</th></tr><tr><td>0</td><td>application_1589638737992_0001</td><td>pyspark</td><td>idle</td><td><a target=\"_blank\" href=\"http://ip-172-31-78-158.ec2.internal:20888/proxy/application_1589638737992_0001/\">Link</a></td><td><a target=\"_blank\" href=\"http://ip-172-31-69-140.ec2.internal:8042/node/containerlogs/container_1589638737992_0001_01_000001/livy\">Link</a></td><td>✔</td></tr></table>"
      ],
      "text/plain": [
       "<IPython.core.display.HTML object>"
      ]
     },
     "metadata": {},
     "output_type": "display_data"
    },
    {
     "data": {
      "application/vnd.jupyter.widget-view+json": {
       "model_id": "",
       "version_major": 2,
       "version_minor": 0
      },
      "text/plain": [
       "FloatProgress(value=0.0, bar_style='info', description='Progress:', layout=Layout(height='25px', width='50%'),…"
      ]
     },
     "metadata": {},
     "output_type": "display_data"
    },
    {
     "name": "stdout",
     "output_type": "stream",
     "text": [
      "SparkSession available as 'spark'.\n"
     ]
    },
    {
     "data": {
      "application/vnd.jupyter.widget-view+json": {
       "model_id": "",
       "version_major": 2,
       "version_minor": 0
      },
      "text/plain": [
       "FloatProgress(value=0.0, bar_style='info', description='Progress:', layout=Layout(height='25px', width='50%'),…"
      ]
     },
     "metadata": {},
     "output_type": "display_data"
    }
   ],
   "source": [
    "#import SparkSession\n",
    "from pyspark.sql import SparkSession"
   ]
  },
  {
   "cell_type": "code",
   "execution_count": 2,
   "metadata": {},
   "outputs": [
    {
     "data": {
      "application/vnd.jupyter.widget-view+json": {
       "model_id": "fbf179986f8447108279186391f74712",
       "version_major": 2,
       "version_minor": 0
      },
      "text/plain": [
       "VBox()"
      ]
     },
     "metadata": {},
     "output_type": "display_data"
    },
    {
     "data": {
      "application/vnd.jupyter.widget-view+json": {
       "model_id": "",
       "version_major": 2,
       "version_minor": 0
      },
      "text/plain": [
       "FloatProgress(value=0.0, bar_style='info', description='Progress:', layout=Layout(height='25px', width='50%'),…"
      ]
     },
     "metadata": {},
     "output_type": "display_data"
    }
   ],
   "source": [
    "#create spar session object\n",
    "spark=SparkSession.builder.appName('data_covid_spark').getOrCreate()"
   ]
  },
  {
   "cell_type": "code",
   "execution_count": 3,
   "metadata": {},
   "outputs": [
    {
     "data": {
      "application/vnd.jupyter.widget-view+json": {
       "model_id": "83b86f3b050446a0b630d97b58febd6d",
       "version_major": 2,
       "version_minor": 0
      },
      "text/plain": [
       "VBox()"
      ]
     },
     "metadata": {},
     "output_type": "display_data"
    },
    {
     "data": {
      "application/vnd.jupyter.widget-view+json": {
       "model_id": "",
       "version_major": 2,
       "version_minor": 0
      },
      "text/plain": [
       "FloatProgress(value=0.0, bar_style='info', description='Progress:', layout=Layout(height='25px', width='50%'),…"
      ]
     },
     "metadata": {},
     "output_type": "display_data"
    }
   ],
   "source": [
    "#Cargar datos\n",
    "casos_confirmados_mundial=spark.read.csv('s3://coviddatatopicos/time_series_covid19_confirmed_global (1).csv',inferSchema=True,header=True)\n",
    "casos_muertes_mundial=spark.read.csv('s3://coviddatatopicos/time_series_covid19_deaths_global.csv',inferSchema=True,header=True)\n",
    "casos_recuperados_mundial=spark.read.csv('s3://coviddatatopicos/time_series_covid19_recovered_global.csv',inferSchema=True,header=True)\n",
    "casos_colombia=spark.read.csv('s3://coviddatatopicos/data (1).csv',inferSchema=True,header=True)\n"
   ]
  },
  {
   "cell_type": "code",
   "execution_count": 4,
   "metadata": {},
   "outputs": [
    {
     "data": {
      "application/vnd.jupyter.widget-view+json": {
       "model_id": "b6810e969aa043278e14120dabf02ab8",
       "version_major": 2,
       "version_minor": 0
      },
      "text/plain": [
       "VBox()"
      ]
     },
     "metadata": {},
     "output_type": "display_data"
    },
    {
     "data": {
      "application/vnd.jupyter.widget-view+json": {
       "model_id": "",
       "version_major": 2,
       "version_minor": 0
      },
      "text/plain": [
       "FloatProgress(value=0.0, bar_style='info', description='Progress:', layout=Layout(height='25px', width='50%'),…"
      ]
     },
     "metadata": {},
     "output_type": "display_data"
    },
    {
     "name": "stdout",
     "output_type": "stream",
     "text": [
      "['Province/State', 'Country/Region', 'Lat', 'Long', '1/22/20', '1/23/20', '1/24/20', '1/25/20', '1/26/20', '1/27/20', '1/28/20', '1/29/20', '1/30/20', '1/31/20', '2/1/20', '2/2/20', '2/3/20', '2/4/20', '2/5/20', '2/6/20', '2/7/20', '2/8/20', '2/9/20', '2/10/20', '2/11/20', '2/12/20', '2/13/20', '2/14/20', '2/15/20', '2/16/20', '2/17/20', '2/18/20', '2/19/20', '2/20/20', '2/21/20', '2/22/20', '2/23/20', '2/24/20', '2/25/20', '2/26/20', '2/27/20', '2/28/20', '2/29/20', '3/1/20', '3/2/20', '3/3/20', '3/4/20', '3/5/20', '3/6/20', '3/7/20', '3/8/20', '3/9/20', '3/10/20', '3/11/20', '3/12/20', '3/13/20', '3/14/20', '3/15/20', '3/16/20', '3/17/20', '3/18/20', '3/19/20', '3/20/20', '3/21/20', '3/22/20', '3/23/20', '3/24/20', '3/25/20', '3/26/20', '3/27/20', '3/28/20', '3/29/20', '3/30/20', '3/31/20', '4/1/20', '4/2/20', '4/3/20', '4/4/20', '4/5/20', '4/6/20', '4/7/20', '4/8/20', '4/9/20', '4/10/20', '4/11/20', '4/12/20', '4/13/20', '4/14/20', '4/15/20', '4/16/20', '4/17/20', '4/18/20', '4/19/20', '4/20/20', '4/21/20', '4/22/20', '4/23/20', '4/24/20', '4/25/20', '4/26/20', '4/27/20', '4/28/20', '4/29/20', '4/30/20', '5/1/20', '5/2/20', '5/3/20', '5/4/20', '5/5/20', '5/6/20', '5/7/20', '5/8/20']"
     ]
    }
   ],
   "source": [
    "casos_confirmados_mundial.columns"
   ]
  },
  {
   "cell_type": "code",
   "execution_count": 5,
   "metadata": {},
   "outputs": [
    {
     "data": {
      "application/vnd.jupyter.widget-view+json": {
       "model_id": "ca37573adc87465e85e26e272f1dc13a",
       "version_major": 2,
       "version_minor": 0
      },
      "text/plain": [
       "VBox()"
      ]
     },
     "metadata": {},
     "output_type": "display_data"
    },
    {
     "data": {
      "application/vnd.jupyter.widget-view+json": {
       "model_id": "",
       "version_major": 2,
       "version_minor": 0
      },
      "text/plain": [
       "FloatProgress(value=0.0, bar_style='info', description='Progress:', layout=Layout(height='25px', width='50%'),…"
      ]
     },
     "metadata": {},
     "output_type": "display_data"
    },
    {
     "name": "stdout",
     "output_type": "stream",
     "text": [
      "['Province/State', 'Country/Region', 'Lat', 'Long', '1/22/20', '1/23/20', '1/24/20', '1/25/20', '1/26/20', '1/27/20', '1/28/20', '1/29/20', '1/30/20', '1/31/20', '2/1/20', '2/2/20', '2/3/20', '2/4/20', '2/5/20', '2/6/20', '2/7/20', '2/8/20', '2/9/20', '2/10/20', '2/11/20', '2/12/20', '2/13/20', '2/14/20', '2/15/20', '2/16/20', '2/17/20', '2/18/20', '2/19/20', '2/20/20', '2/21/20', '2/22/20', '2/23/20', '2/24/20', '2/25/20', '2/26/20', '2/27/20', '2/28/20', '2/29/20', '3/1/20', '3/2/20', '3/3/20', '3/4/20', '3/5/20', '3/6/20', '3/7/20', '3/8/20', '3/9/20', '3/10/20', '3/11/20', '3/12/20', '3/13/20', '3/14/20', '3/15/20', '3/16/20', '3/17/20', '3/18/20', '3/19/20', '3/20/20', '3/21/20', '3/22/20', '3/23/20', '3/24/20', '3/25/20', '3/26/20', '3/27/20', '3/28/20', '3/29/20', '3/30/20', '3/31/20', '4/1/20', '4/2/20', '4/3/20', '4/4/20', '4/5/20', '4/6/20', '4/7/20', '4/8/20', '4/9/20', '4/10/20', '4/11/20', '4/12/20', '4/13/20', '4/14/20', '4/15/20', '4/16/20', '4/17/20', '4/18/20', '4/19/20', '4/20/20', '4/21/20', '4/22/20', '4/23/20', '4/24/20', '4/25/20', '4/26/20', '4/27/20', '4/28/20', '4/29/20', '4/30/20', '5/1/20', '5/2/20', '5/3/20', '5/4/20', '5/5/20', '5/6/20', '5/7/20', '5/8/20']"
     ]
    }
   ],
   "source": [
    "casos_muertes_mundial.columns"
   ]
  },
  {
   "cell_type": "code",
   "execution_count": 6,
   "metadata": {},
   "outputs": [
    {
     "data": {
      "application/vnd.jupyter.widget-view+json": {
       "model_id": "07d51e95b6d940a9a83482dab2504cd6",
       "version_major": 2,
       "version_minor": 0
      },
      "text/plain": [
       "VBox()"
      ]
     },
     "metadata": {},
     "output_type": "display_data"
    },
    {
     "data": {
      "application/vnd.jupyter.widget-view+json": {
       "model_id": "",
       "version_major": 2,
       "version_minor": 0
      },
      "text/plain": [
       "FloatProgress(value=0.0, bar_style='info', description='Progress:', layout=Layout(height='25px', width='50%'),…"
      ]
     },
     "metadata": {},
     "output_type": "display_data"
    },
    {
     "name": "stdout",
     "output_type": "stream",
     "text": [
      "['Province/State', 'Country/Region', 'Lat', 'Long', '1/22/20', '1/23/20', '1/24/20', '1/25/20', '1/26/20', '1/27/20', '1/28/20', '1/29/20', '1/30/20', '1/31/20', '2/1/20', '2/2/20', '2/3/20', '2/4/20', '2/5/20', '2/6/20', '2/7/20', '2/8/20', '2/9/20', '2/10/20', '2/11/20', '2/12/20', '2/13/20', '2/14/20', '2/15/20', '2/16/20', '2/17/20', '2/18/20', '2/19/20', '2/20/20', '2/21/20', '2/22/20', '2/23/20', '2/24/20', '2/25/20', '2/26/20', '2/27/20', '2/28/20', '2/29/20', '3/1/20', '3/2/20', '3/3/20', '3/4/20', '3/5/20', '3/6/20', '3/7/20', '3/8/20', '3/9/20', '3/10/20', '3/11/20', '3/12/20', '3/13/20', '3/14/20', '3/15/20', '3/16/20', '3/17/20', '3/18/20', '3/19/20', '3/20/20', '3/21/20', '3/22/20', '3/23/20', '3/24/20', '3/25/20', '3/26/20', '3/27/20', '3/28/20', '3/29/20', '3/30/20', '3/31/20', '4/1/20', '4/2/20', '4/3/20', '4/4/20', '4/5/20', '4/6/20', '4/7/20', '4/8/20', '4/9/20', '4/10/20', '4/11/20', '4/12/20', '4/13/20', '4/14/20', '4/15/20', '4/16/20', '4/17/20', '4/18/20', '4/19/20', '4/20/20', '4/21/20', '4/22/20', '4/23/20', '4/24/20', '4/25/20', '4/26/20', '4/27/20', '4/28/20', '4/29/20', '4/30/20', '5/1/20', '5/2/20', '5/3/20', '5/4/20', '5/5/20', '5/6/20', '5/7/20', '5/8/20']"
     ]
    }
   ],
   "source": [
    "casos_recuperados_mundial.columns"
   ]
  },
  {
   "cell_type": "code",
   "execution_count": 7,
   "metadata": {},
   "outputs": [
    {
     "data": {
      "application/vnd.jupyter.widget-view+json": {
       "model_id": "71bd8c9af90445c6bbf20fb41f5ff170",
       "version_major": 2,
       "version_minor": 0
      },
      "text/plain": [
       "VBox()"
      ]
     },
     "metadata": {},
     "output_type": "display_data"
    },
    {
     "data": {
      "application/vnd.jupyter.widget-view+json": {
       "model_id": "",
       "version_major": 2,
       "version_minor": 0
      },
      "text/plain": [
       "FloatProgress(value=0.0, bar_style='info', description='Progress:', layout=Layout(height='25px', width='50%'),…"
      ]
     },
     "metadata": {},
     "output_type": "display_data"
    },
    {
     "name": "stdout",
     "output_type": "stream",
     "text": [
      "['ID de caso', 'Fecha de notificación', 'Codigo DIVIPOLA', 'Ciudad de ubicación', 'Departamento o Distrito ', 'atención', 'Edad', 'Sexo', 'Tipo', 'Estado', 'País de procedencia', 'FIS', 'Fecha de muerte', 'Fecha diagnostico', 'Fecha recuperado', 'fecha reporte web']"
     ]
    }
   ],
   "source": [
    "casos_colombia.columns"
   ]
  },
  {
   "cell_type": "code",
   "execution_count": 8,
   "metadata": {},
   "outputs": [
    {
     "data": {
      "application/vnd.jupyter.widget-view+json": {
       "model_id": "db903eaf9b654932828f3ea78ae20394",
       "version_major": 2,
       "version_minor": 0
      },
      "text/plain": [
       "VBox()"
      ]
     },
     "metadata": {},
     "output_type": "display_data"
    },
    {
     "data": {
      "application/vnd.jupyter.widget-view+json": {
       "model_id": "",
       "version_major": 2,
       "version_minor": 0
      },
      "text/plain": [
       "FloatProgress(value=0.0, bar_style='info', description='Progress:', layout=Layout(height='25px', width='50%'),…"
      ]
     },
     "metadata": {},
     "output_type": "display_data"
    }
   ],
   "source": [
    "from pyspark.sql.types import StringType,DoubleType,IntegerType"
   ]
  },
  {
   "cell_type": "code",
   "execution_count": 9,
   "metadata": {},
   "outputs": [
    {
     "data": {
      "application/vnd.jupyter.widget-view+json": {
       "model_id": "6f32ebafec334e28992c251fd1668bc9",
       "version_major": 2,
       "version_minor": 0
      },
      "text/plain": [
       "VBox()"
      ]
     },
     "metadata": {},
     "output_type": "display_data"
    },
    {
     "data": {
      "application/vnd.jupyter.widget-view+json": {
       "model_id": "",
       "version_major": 2,
       "version_minor": 0
      },
      "text/plain": [
       "FloatProgress(value=0.0, bar_style='info', description='Progress:', layout=Layout(height='25px', width='50%'),…"
      ]
     },
     "metadata": {},
     "output_type": "display_data"
    }
   ],
   "source": [
    "from pyspark.sql.types import *"
   ]
  },
  {
   "cell_type": "code",
   "execution_count": 10,
   "metadata": {},
   "outputs": [
    {
     "data": {
      "application/vnd.jupyter.widget-view+json": {
       "model_id": "c0620b5ac0a544a3b83813dd22fa6f7a",
       "version_major": 2,
       "version_minor": 0
      },
      "text/plain": [
       "VBox()"
      ]
     },
     "metadata": {},
     "output_type": "display_data"
    },
    {
     "data": {
      "application/vnd.jupyter.widget-view+json": {
       "model_id": "",
       "version_major": 2,
       "version_minor": 0
      },
      "text/plain": [
       "FloatProgress(value=0.0, bar_style='info', description='Progress:', layout=Layout(height='25px', width='50%'),…"
      ]
     },
     "metadata": {},
     "output_type": "display_data"
    },
    {
     "name": "stdout",
     "output_type": "stream",
     "text": [
      "root\n",
      " |-- Province/State: string (nullable = true)\n",
      " |-- Country/Region: string (nullable = true)\n",
      " |-- Lat: double (nullable = true)\n",
      " |-- Long: double (nullable = true)\n",
      " |-- 1/22/20: integer (nullable = true)\n",
      " |-- 1/23/20: integer (nullable = true)\n",
      " |-- 1/24/20: integer (nullable = true)\n",
      " |-- 1/25/20: integer (nullable = true)\n",
      " |-- 1/26/20: integer (nullable = true)\n",
      " |-- 1/27/20: integer (nullable = true)\n",
      " |-- 1/28/20: integer (nullable = true)\n",
      " |-- 1/29/20: integer (nullable = true)\n",
      " |-- 1/30/20: integer (nullable = true)\n",
      " |-- 1/31/20: integer (nullable = true)\n",
      " |-- 2/1/20: integer (nullable = true)\n",
      " |-- 2/2/20: integer (nullable = true)\n",
      " |-- 2/3/20: integer (nullable = true)\n",
      " |-- 2/4/20: integer (nullable = true)\n",
      " |-- 2/5/20: integer (nullable = true)\n",
      " |-- 2/6/20: integer (nullable = true)\n",
      " |-- 2/7/20: integer (nullable = true)\n",
      " |-- 2/8/20: integer (nullable = true)\n",
      " |-- 2/9/20: integer (nullable = true)\n",
      " |-- 2/10/20: integer (nullable = true)\n",
      " |-- 2/11/20: integer (nullable = true)\n",
      " |-- 2/12/20: integer (nullable = true)\n",
      " |-- 2/13/20: integer (nullable = true)\n",
      " |-- 2/14/20: integer (nullable = true)\n",
      " |-- 2/15/20: integer (nullable = true)\n",
      " |-- 2/16/20: integer (nullable = true)\n",
      " |-- 2/17/20: integer (nullable = true)\n",
      " |-- 2/18/20: integer (nullable = true)\n",
      " |-- 2/19/20: integer (nullable = true)\n",
      " |-- 2/20/20: integer (nullable = true)\n",
      " |-- 2/21/20: integer (nullable = true)\n",
      " |-- 2/22/20: integer (nullable = true)\n",
      " |-- 2/23/20: integer (nullable = true)\n",
      " |-- 2/24/20: integer (nullable = true)\n",
      " |-- 2/25/20: integer (nullable = true)\n",
      " |-- 2/26/20: integer (nullable = true)\n",
      " |-- 2/27/20: integer (nullable = true)\n",
      " |-- 2/28/20: integer (nullable = true)\n",
      " |-- 2/29/20: integer (nullable = true)\n",
      " |-- 3/1/20: integer (nullable = true)\n",
      " |-- 3/2/20: integer (nullable = true)\n",
      " |-- 3/3/20: integer (nullable = true)\n",
      " |-- 3/4/20: integer (nullable = true)\n",
      " |-- 3/5/20: integer (nullable = true)\n",
      " |-- 3/6/20: integer (nullable = true)\n",
      " |-- 3/7/20: integer (nullable = true)\n",
      " |-- 3/8/20: integer (nullable = true)\n",
      " |-- 3/9/20: integer (nullable = true)\n",
      " |-- 3/10/20: integer (nullable = true)\n",
      " |-- 3/11/20: integer (nullable = true)\n",
      " |-- 3/12/20: integer (nullable = true)\n",
      " |-- 3/13/20: integer (nullable = true)\n",
      " |-- 3/14/20: integer (nullable = true)\n",
      " |-- 3/15/20: integer (nullable = true)\n",
      " |-- 3/16/20: integer (nullable = true)\n",
      " |-- 3/17/20: integer (nullable = true)\n",
      " |-- 3/18/20: integer (nullable = true)\n",
      " |-- 3/19/20: integer (nullable = true)\n",
      " |-- 3/20/20: integer (nullable = true)\n",
      " |-- 3/21/20: integer (nullable = true)\n",
      " |-- 3/22/20: integer (nullable = true)\n",
      " |-- 3/23/20: integer (nullable = true)\n",
      " |-- 3/24/20: integer (nullable = true)\n",
      " |-- 3/25/20: integer (nullable = true)\n",
      " |-- 3/26/20: integer (nullable = true)\n",
      " |-- 3/27/20: integer (nullable = true)\n",
      " |-- 3/28/20: integer (nullable = true)\n",
      " |-- 3/29/20: integer (nullable = true)\n",
      " |-- 3/30/20: integer (nullable = true)\n",
      " |-- 3/31/20: integer (nullable = true)\n",
      " |-- 4/1/20: integer (nullable = true)\n",
      " |-- 4/2/20: integer (nullable = true)\n",
      " |-- 4/3/20: integer (nullable = true)\n",
      " |-- 4/4/20: integer (nullable = true)\n",
      " |-- 4/5/20: integer (nullable = true)\n",
      " |-- 4/6/20: integer (nullable = true)\n",
      " |-- 4/7/20: integer (nullable = true)\n",
      " |-- 4/8/20: integer (nullable = true)\n",
      " |-- 4/9/20: integer (nullable = true)\n",
      " |-- 4/10/20: integer (nullable = true)\n",
      " |-- 4/11/20: integer (nullable = true)\n",
      " |-- 4/12/20: integer (nullable = true)\n",
      " |-- 4/13/20: integer (nullable = true)\n",
      " |-- 4/14/20: integer (nullable = true)\n",
      " |-- 4/15/20: integer (nullable = true)\n",
      " |-- 4/16/20: integer (nullable = true)\n",
      " |-- 4/17/20: integer (nullable = true)\n",
      " |-- 4/18/20: integer (nullable = true)\n",
      " |-- 4/19/20: integer (nullable = true)\n",
      " |-- 4/20/20: integer (nullable = true)\n",
      " |-- 4/21/20: integer (nullable = true)\n",
      " |-- 4/22/20: integer (nullable = true)\n",
      " |-- 4/23/20: integer (nullable = true)\n",
      " |-- 4/24/20: integer (nullable = true)\n",
      " |-- 4/25/20: integer (nullable = true)\n",
      " |-- 4/26/20: integer (nullable = true)\n",
      " |-- 4/27/20: integer (nullable = true)\n",
      " |-- 4/28/20: integer (nullable = true)\n",
      " |-- 4/29/20: integer (nullable = true)\n",
      " |-- 4/30/20: integer (nullable = true)\n",
      " |-- 5/1/20: integer (nullable = true)\n",
      " |-- 5/2/20: integer (nullable = true)\n",
      " |-- 5/3/20: integer (nullable = true)\n",
      " |-- 5/4/20: integer (nullable = true)\n",
      " |-- 5/5/20: integer (nullable = true)\n",
      " |-- 5/6/20: integer (nullable = true)\n",
      " |-- 5/7/20: integer (nullable = true)\n",
      " |-- 5/8/20: integer (nullable = true)\n",
      "\n",
      "root\n",
      " |-- Province/State: string (nullable = true)\n",
      " |-- Country/Region: string (nullable = true)\n",
      " |-- Lat: double (nullable = true)\n",
      " |-- Long: double (nullable = true)\n",
      " |-- 1/22/20: integer (nullable = true)\n",
      " |-- 1/23/20: integer (nullable = true)\n",
      " |-- 1/24/20: integer (nullable = true)\n",
      " |-- 1/25/20: integer (nullable = true)\n",
      " |-- 1/26/20: integer (nullable = true)\n",
      " |-- 1/27/20: integer (nullable = true)\n",
      " |-- 1/28/20: integer (nullable = true)\n",
      " |-- 1/29/20: integer (nullable = true)\n",
      " |-- 1/30/20: integer (nullable = true)\n",
      " |-- 1/31/20: integer (nullable = true)\n",
      " |-- 2/1/20: integer (nullable = true)\n",
      " |-- 2/2/20: integer (nullable = true)\n",
      " |-- 2/3/20: integer (nullable = true)\n",
      " |-- 2/4/20: integer (nullable = true)\n",
      " |-- 2/5/20: integer (nullable = true)\n",
      " |-- 2/6/20: integer (nullable = true)\n",
      " |-- 2/7/20: integer (nullable = true)\n",
      " |-- 2/8/20: integer (nullable = true)\n",
      " |-- 2/9/20: integer (nullable = true)\n",
      " |-- 2/10/20: integer (nullable = true)\n",
      " |-- 2/11/20: integer (nullable = true)\n",
      " |-- 2/12/20: integer (nullable = true)\n",
      " |-- 2/13/20: integer (nullable = true)\n",
      " |-- 2/14/20: integer (nullable = true)\n",
      " |-- 2/15/20: integer (nullable = true)\n",
      " |-- 2/16/20: integer (nullable = true)\n",
      " |-- 2/17/20: integer (nullable = true)\n",
      " |-- 2/18/20: integer (nullable = true)\n",
      " |-- 2/19/20: integer (nullable = true)\n",
      " |-- 2/20/20: integer (nullable = true)\n",
      " |-- 2/21/20: integer (nullable = true)\n",
      " |-- 2/22/20: integer (nullable = true)\n",
      " |-- 2/23/20: integer (nullable = true)\n",
      " |-- 2/24/20: integer (nullable = true)\n",
      " |-- 2/25/20: integer (nullable = true)\n",
      " |-- 2/26/20: integer (nullable = true)\n",
      " |-- 2/27/20: integer (nullable = true)\n",
      " |-- 2/28/20: integer (nullable = true)\n",
      " |-- 2/29/20: integer (nullable = true)\n",
      " |-- 3/1/20: integer (nullable = true)\n",
      " |-- 3/2/20: integer (nullable = true)\n",
      " |-- 3/3/20: integer (nullable = true)\n",
      " |-- 3/4/20: integer (nullable = true)\n",
      " |-- 3/5/20: integer (nullable = true)\n",
      " |-- 3/6/20: integer (nullable = true)\n",
      " |-- 3/7/20: integer (nullable = true)\n",
      " |-- 3/8/20: integer (nullable = true)\n",
      " |-- 3/9/20: integer (nullable = true)\n",
      " |-- 3/10/20: integer (nullable = true)\n",
      " |-- 3/11/20: integer (nullable = true)\n",
      " |-- 3/12/20: integer (nullable = true)\n",
      " |-- 3/13/20: integer (nullable = true)\n",
      " |-- 3/14/20: integer (nullable = true)\n",
      " |-- 3/15/20: integer (nullable = true)\n",
      " |-- 3/16/20: integer (nullable = true)\n",
      " |-- 3/17/20: integer (nullable = true)\n",
      " |-- 3/18/20: integer (nullable = true)\n",
      " |-- 3/19/20: integer (nullable = true)\n",
      " |-- 3/20/20: integer (nullable = true)\n",
      " |-- 3/21/20: integer (nullable = true)\n",
      " |-- 3/22/20: integer (nullable = true)\n",
      " |-- 3/23/20: integer (nullable = true)\n",
      " |-- 3/24/20: integer (nullable = true)\n",
      " |-- 3/25/20: integer (nullable = true)\n",
      " |-- 3/26/20: integer (nullable = true)\n",
      " |-- 3/27/20: integer (nullable = true)\n",
      " |-- 3/28/20: integer (nullable = true)\n",
      " |-- 3/29/20: integer (nullable = true)\n",
      " |-- 3/30/20: integer (nullable = true)\n",
      " |-- 3/31/20: integer (nullable = true)\n",
      " |-- 4/1/20: integer (nullable = true)\n",
      " |-- 4/2/20: integer (nullable = true)\n",
      " |-- 4/3/20: integer (nullable = true)\n",
      " |-- 4/4/20: integer (nullable = true)\n",
      " |-- 4/5/20: integer (nullable = true)\n",
      " |-- 4/6/20: integer (nullable = true)\n",
      " |-- 4/7/20: integer (nullable = true)\n",
      " |-- 4/8/20: integer (nullable = true)\n",
      " |-- 4/9/20: integer (nullable = true)\n",
      " |-- 4/10/20: integer (nullable = true)\n",
      " |-- 4/11/20: integer (nullable = true)\n",
      " |-- 4/12/20: integer (nullable = true)\n",
      " |-- 4/13/20: integer (nullable = true)\n",
      " |-- 4/14/20: integer (nullable = true)\n",
      " |-- 4/15/20: integer (nullable = true)\n",
      " |-- 4/16/20: integer (nullable = true)\n",
      " |-- 4/17/20: integer (nullable = true)\n",
      " |-- 4/18/20: integer (nullable = true)\n",
      " |-- 4/19/20: integer (nullable = true)\n",
      " |-- 4/20/20: integer (nullable = true)\n",
      " |-- 4/21/20: integer (nullable = true)\n",
      " |-- 4/22/20: integer (nullable = true)\n",
      " |-- 4/23/20: integer (nullable = true)\n",
      " |-- 4/24/20: integer (nullable = true)\n",
      " |-- 4/25/20: integer (nullable = true)\n",
      " |-- 4/26/20: integer (nullable = true)\n",
      " |-- 4/27/20: integer (nullable = true)\n",
      " |-- 4/28/20: integer (nullable = true)\n",
      " |-- 4/29/20: integer (nullable = true)\n",
      " |-- 4/30/20: integer (nullable = true)\n",
      " |-- 5/1/20: integer (nullable = true)\n",
      " |-- 5/2/20: integer (nullable = true)\n",
      " |-- 5/3/20: integer (nullable = true)\n",
      " |-- 5/4/20: integer (nullable = true)\n",
      " |-- 5/5/20: integer (nullable = true)\n",
      " |-- 5/6/20: integer (nullable = true)\n",
      " |-- 5/7/20: integer (nullable = true)\n",
      " |-- 5/8/20: integer (nullable = true)\n",
      "\n",
      "root\n",
      " |-- Province/State: string (nullable = true)\n",
      " |-- Country/Region: string (nullable = true)\n",
      " |-- Lat: double (nullable = true)\n",
      " |-- Long: double (nullable = true)\n",
      " |-- 1/22/20: integer (nullable = true)\n",
      " |-- 1/23/20: integer (nullable = true)\n",
      " |-- 1/24/20: integer (nullable = true)\n",
      " |-- 1/25/20: integer (nullable = true)\n",
      " |-- 1/26/20: integer (nullable = true)\n",
      " |-- 1/27/20: integer (nullable = true)\n",
      " |-- 1/28/20: integer (nullable = true)\n",
      " |-- 1/29/20: integer (nullable = true)\n",
      " |-- 1/30/20: integer (nullable = true)\n",
      " |-- 1/31/20: integer (nullable = true)\n",
      " |-- 2/1/20: integer (nullable = true)\n",
      " |-- 2/2/20: integer (nullable = true)\n",
      " |-- 2/3/20: integer (nullable = true)\n",
      " |-- 2/4/20: integer (nullable = true)\n",
      " |-- 2/5/20: integer (nullable = true)\n",
      " |-- 2/6/20: integer (nullable = true)\n",
      " |-- 2/7/20: integer (nullable = true)\n",
      " |-- 2/8/20: integer (nullable = true)\n",
      " |-- 2/9/20: integer (nullable = true)\n",
      " |-- 2/10/20: integer (nullable = true)\n",
      " |-- 2/11/20: integer (nullable = true)\n",
      " |-- 2/12/20: integer (nullable = true)\n",
      " |-- 2/13/20: integer (nullable = true)\n",
      " |-- 2/14/20: integer (nullable = true)\n",
      " |-- 2/15/20: integer (nullable = true)\n",
      " |-- 2/16/20: integer (nullable = true)\n",
      " |-- 2/17/20: integer (nullable = true)\n",
      " |-- 2/18/20: integer (nullable = true)\n",
      " |-- 2/19/20: integer (nullable = true)\n",
      " |-- 2/20/20: integer (nullable = true)\n",
      " |-- 2/21/20: integer (nullable = true)\n",
      " |-- 2/22/20: integer (nullable = true)\n",
      " |-- 2/23/20: integer (nullable = true)\n",
      " |-- 2/24/20: integer (nullable = true)\n",
      " |-- 2/25/20: integer (nullable = true)\n",
      " |-- 2/26/20: integer (nullable = true)\n",
      " |-- 2/27/20: integer (nullable = true)\n",
      " |-- 2/28/20: integer (nullable = true)\n",
      " |-- 2/29/20: integer (nullable = true)\n",
      " |-- 3/1/20: integer (nullable = true)\n",
      " |-- 3/2/20: integer (nullable = true)\n",
      " |-- 3/3/20: integer (nullable = true)\n",
      " |-- 3/4/20: integer (nullable = true)\n",
      " |-- 3/5/20: integer (nullable = true)\n",
      " |-- 3/6/20: integer (nullable = true)\n",
      " |-- 3/7/20: integer (nullable = true)\n",
      " |-- 3/8/20: integer (nullable = true)\n",
      " |-- 3/9/20: integer (nullable = true)\n",
      " |-- 3/10/20: integer (nullable = true)\n",
      " |-- 3/11/20: integer (nullable = true)\n",
      " |-- 3/12/20: integer (nullable = true)\n",
      " |-- 3/13/20: integer (nullable = true)\n",
      " |-- 3/14/20: integer (nullable = true)\n",
      " |-- 3/15/20: integer (nullable = true)\n",
      " |-- 3/16/20: integer (nullable = true)\n",
      " |-- 3/17/20: integer (nullable = true)\n",
      " |-- 3/18/20: integer (nullable = true)\n",
      " |-- 3/19/20: integer (nullable = true)\n",
      " |-- 3/20/20: integer (nullable = true)\n",
      " |-- 3/21/20: integer (nullable = true)\n",
      " |-- 3/22/20: integer (nullable = true)\n",
      " |-- 3/23/20: integer (nullable = true)\n",
      " |-- 3/24/20: integer (nullable = true)\n",
      " |-- 3/25/20: integer (nullable = true)\n",
      " |-- 3/26/20: integer (nullable = true)\n",
      " |-- 3/27/20: integer (nullable = true)\n",
      " |-- 3/28/20: integer (nullable = true)\n",
      " |-- 3/29/20: integer (nullable = true)\n",
      " |-- 3/30/20: integer (nullable = true)\n",
      " |-- 3/31/20: integer (nullable = true)\n",
      " |-- 4/1/20: integer (nullable = true)\n",
      " |-- 4/2/20: integer (nullable = true)\n",
      " |-- 4/3/20: integer (nullable = true)\n",
      " |-- 4/4/20: integer (nullable = true)\n",
      " |-- 4/5/20: integer (nullable = true)\n",
      " |-- 4/6/20: integer (nullable = true)\n",
      " |-- 4/7/20: integer (nullable = true)\n",
      " |-- 4/8/20: integer (nullable = true)\n",
      " |-- 4/9/20: integer (nullable = true)\n",
      " |-- 4/10/20: integer (nullable = true)\n",
      " |-- 4/11/20: integer (nullable = true)\n",
      " |-- 4/12/20: integer (nullable = true)\n",
      " |-- 4/13/20: integer (nullable = true)\n",
      " |-- 4/14/20: integer (nullable = true)\n",
      " |-- 4/15/20: integer (nullable = true)\n",
      " |-- 4/16/20: integer (nullable = true)\n",
      " |-- 4/17/20: integer (nullable = true)\n",
      " |-- 4/18/20: integer (nullable = true)\n",
      " |-- 4/19/20: integer (nullable = true)\n",
      " |-- 4/20/20: integer (nullable = true)\n",
      " |-- 4/21/20: integer (nullable = true)\n",
      " |-- 4/22/20: integer (nullable = true)\n",
      " |-- 4/23/20: integer (nullable = true)\n",
      " |-- 4/24/20: integer (nullable = true)\n",
      " |-- 4/25/20: integer (nullable = true)\n",
      " |-- 4/26/20: integer (nullable = true)\n",
      " |-- 4/27/20: integer (nullable = true)\n",
      " |-- 4/28/20: integer (nullable = true)\n",
      " |-- 4/29/20: integer (nullable = true)\n",
      " |-- 4/30/20: integer (nullable = true)\n",
      " |-- 5/1/20: integer (nullable = true)\n",
      " |-- 5/2/20: integer (nullable = true)\n",
      " |-- 5/3/20: integer (nullable = true)\n",
      " |-- 5/4/20: integer (nullable = true)\n",
      " |-- 5/5/20: integer (nullable = true)\n",
      " |-- 5/6/20: integer (nullable = true)\n",
      " |-- 5/7/20: integer (nullable = true)\n",
      " |-- 5/8/20: integer (nullable = true)\n",
      "\n",
      "root\n",
      " |-- ID de caso: string (nullable = true)\n",
      " |-- Fecha de notificación: string (nullable = true)\n",
      " |-- Codigo DIVIPOLA: string (nullable = true)\n",
      " |-- Ciudad de ubicación: string (nullable = true)\n",
      " |-- Departamento o Distrito : string (nullable = true)\n",
      " |-- atención: string (nullable = true)\n",
      " |-- Edad: string (nullable = true)\n",
      " |-- Sexo: string (nullable = true)\n",
      " |-- Tipo: string (nullable = true)\n",
      " |-- Estado: string (nullable = true)\n",
      " |-- País de procedencia: string (nullable = true)\n",
      " |-- FIS: string (nullable = true)\n",
      " |-- Fecha de muerte: string (nullable = true)\n",
      " |-- Fecha diagnostico: string (nullable = true)\n",
      " |-- Fecha recuperado: string (nullable = true)\n",
      " |-- fecha reporte web: string (nullable = true)"
     ]
    }
   ],
   "source": [
    "#distinct value count\n",
    "casos_confirmados_mundial.printSchema()\n",
    "casos_muertes_mundial.printSchema()\n",
    "casos_recuperados_mundial.printSchema()\n",
    "casos_colombia.printSchema()"
   ]
  },
  {
   "cell_type": "code",
   "execution_count": 11,
   "metadata": {},
   "outputs": [
    {
     "data": {
      "application/vnd.jupyter.widget-view+json": {
       "model_id": "f41fa4bff9174a468353160a31443885",
       "version_major": 2,
       "version_minor": 0
      },
      "text/plain": [
       "VBox()"
      ]
     },
     "metadata": {},
     "output_type": "display_data"
    },
    {
     "data": {
      "application/vnd.jupyter.widget-view+json": {
       "model_id": "",
       "version_major": 2,
       "version_minor": 0
      },
      "text/plain": [
       "FloatProgress(value=0.0, bar_style='info', description='Progress:', layout=Layout(height='25px', width='50%'),…"
      ]
     },
     "metadata": {},
     "output_type": "display_data"
    }
   ],
   "source": [
    "from pyspark.sql.functions import sum\n",
    "casos_confirmados_pais = casos_confirmados_mundial.groupBy('Country/Region').sum('5/8/20')\n",
    "casos_muertes_pais = casos_muertes_mundial.groupBy('Country/Region').sum('5/8/20')\n",
    "casos_recuperados_pais = casos_recuperados_mundial.groupBy('Country/Region').sum('5/8/20')\n",
    "\n"
   ]
  },
  {
   "cell_type": "code",
   "execution_count": 18,
   "metadata": {},
   "outputs": [
    {
     "data": {
      "application/vnd.jupyter.widget-view+json": {
       "model_id": "8894d28713574d12834e9fa36746bceb",
       "version_major": 2,
       "version_minor": 0
      },
      "text/plain": [
       "VBox()"
      ]
     },
     "metadata": {},
     "output_type": "display_data"
    },
    {
     "data": {
      "application/vnd.jupyter.widget-view+json": {
       "model_id": "",
       "version_major": 2,
       "version_minor": 0
      },
      "text/plain": [
       "FloatProgress(value=0.0, bar_style='info', description='Progress:', layout=Layout(height='25px', width='50%'),…"
      ]
     },
     "metadata": {},
     "output_type": "display_data"
    }
   ],
   "source": [
    "casos_confirmados_pais.coalesce(1).write.save('s3://salidapreprocesamiento/casos_confirmados_pais/', format='csv', header=True)\n",
    "casos_muertes_pais.coalesce(1).write.save('s3://salidapreprocesamiento/casos_muertes_pais/', format='csv', header=True)\n",
    "casos_recuperados_pais.coalesce(1).write.save('s3://salidapreprocesamiento/casos_recuperados_pais/', format='csv', header=True)"
   ]
  },
  {
   "cell_type": "code",
   "execution_count": 30,
   "metadata": {},
   "outputs": [
    {
     "data": {
      "application/vnd.jupyter.widget-view+json": {
       "model_id": "295fad04ba4c418f9f77da560991ab6f",
       "version_major": 2,
       "version_minor": 0
      },
      "text/plain": [
       "VBox()"
      ]
     },
     "metadata": {},
     "output_type": "display_data"
    },
    {
     "data": {
      "application/vnd.jupyter.widget-view+json": {
       "model_id": "",
       "version_major": 2,
       "version_minor": 0
      },
      "text/plain": [
       "FloatProgress(value=0.0, bar_style='info', description='Progress:', layout=Layout(height='25px', width='50%'),…"
      ]
     },
     "metadata": {},
     "output_type": "display_data"
    }
   ],
   "source": []
  },
  {
   "cell_type": "code",
   "execution_count": 12,
   "metadata": {},
   "outputs": [
    {
     "data": {
      "application/vnd.jupyter.widget-view+json": {
       "model_id": "5283c97068574b78af28d09ec5964aeb",
       "version_major": 2,
       "version_minor": 0
      },
      "text/plain": [
       "VBox()"
      ]
     },
     "metadata": {},
     "output_type": "display_data"
    },
    {
     "data": {
      "application/vnd.jupyter.widget-view+json": {
       "model_id": "",
       "version_major": 2,
       "version_minor": 0
      },
      "text/plain": [
       "FloatProgress(value=0.0, bar_style='info', description='Progress:', layout=Layout(height='25px', width='50%'),…"
      ]
     },
     "metadata": {},
     "output_type": "display_data"
    }
   ],
   "source": [
    "casos_confirmados_pais=casos_confirmados_pais.withColumnRenamed(\"sum(5/8/20)\",\"numero_casos\")\n",
    "casos_muertes_pais=casos_muertes_pais.withColumnRenamed(\"sum(5/8/20)\",\"numero_muertes\")\n",
    "casos_recuperados_pais=casos_recuperados_pais.withColumnRenamed(\"sum(5/8/20)\",\"numero_recuperados\")\n"
   ]
  },
  {
   "cell_type": "code",
   "execution_count": 13,
   "metadata": {},
   "outputs": [
    {
     "data": {
      "application/vnd.jupyter.widget-view+json": {
       "model_id": "ac2acec9dcd84cf8bf4d93a4076a1b22",
       "version_major": 2,
       "version_minor": 0
      },
      "text/plain": [
       "VBox()"
      ]
     },
     "metadata": {},
     "output_type": "display_data"
    },
    {
     "data": {
      "application/vnd.jupyter.widget-view+json": {
       "model_id": "",
       "version_major": 2,
       "version_minor": 0
      },
      "text/plain": [
       "FloatProgress(value=0.0, bar_style='info', description='Progress:', layout=Layout(height='25px', width='50%'),…"
      ]
     },
     "metadata": {},
     "output_type": "display_data"
    },
    {
     "name": "stdout",
     "output_type": "stream",
     "text": [
      "DataFrame[Country/Region: string, numero_casos: bigint]"
     ]
    }
   ],
   "source": [
    "casos_confirmados_pais"
   ]
  },
  {
   "cell_type": "code",
   "execution_count": 14,
   "metadata": {},
   "outputs": [
    {
     "data": {
      "application/vnd.jupyter.widget-view+json": {
       "model_id": "f069b1dac2a9470e8a4bc50930715e86",
       "version_major": 2,
       "version_minor": 0
      },
      "text/plain": [
       "VBox()"
      ]
     },
     "metadata": {},
     "output_type": "display_data"
    },
    {
     "data": {
      "application/vnd.jupyter.widget-view+json": {
       "model_id": "",
       "version_major": 2,
       "version_minor": 0
      },
      "text/plain": [
       "FloatProgress(value=0.0, bar_style='info', description='Progress:', layout=Layout(height='25px', width='50%'),…"
      ]
     },
     "metadata": {},
     "output_type": "display_data"
    }
   ],
   "source": [
    "casos_totales_mundo=casos_confirmados_pais.groupBy().sum('numero_casos')\n",
    "casos_muertos_totales_pais=casos_muertes_pais.groupBy().sum('numero_muertes')\n",
    "casos_recuperados_totales_pais=casos_recuperados_pais.groupBy().sum('numero_recuperados')"
   ]
  },
  {
   "cell_type": "code",
   "execution_count": 35,
   "metadata": {},
   "outputs": [
    {
     "data": {
      "application/vnd.jupyter.widget-view+json": {
       "model_id": "0c4ae3065f1143e4ab16fd7ef574721d",
       "version_major": 2,
       "version_minor": 0
      },
      "text/plain": [
       "VBox()"
      ]
     },
     "metadata": {},
     "output_type": "display_data"
    },
    {
     "data": {
      "application/vnd.jupyter.widget-view+json": {
       "model_id": "",
       "version_major": 2,
       "version_minor": 0
      },
      "text/plain": [
       "FloatProgress(value=0.0, bar_style='info', description='Progress:', layout=Layout(height='25px', width='50%'),…"
      ]
     },
     "metadata": {},
     "output_type": "display_data"
    }
   ],
   "source": [
    "casos_totales_mundo.coalesce(1).write.save('s3://salidapreprocesamiento/casos_totales_mundo/', format='csv', header=False)\n",
    "casos_muertos_totales_pais.coalesce(1).write.save('s3://salidapreprocesamiento/muertos_totales_mundo/', format='csv', header=False)\n",
    "casos_recuperados_totales_pais.write.save('s3://salidapreprocesamiento/recuperados_mundo/', format='csv', header=False)"
   ]
  },
  {
   "cell_type": "code",
   "execution_count": null,
   "metadata": {},
   "outputs": [],
   "source": [
    "casos_confirmados_pais.coalesce(1).write.save('s3://salidapreprocesamiento/casos_confirmados_pais/', format='csv', header=True)\n",
    "casos_muertes_pais.coalesce(1).write.save('s3://salidapreprocesamiento/casos_muertes_pais/', format='csv', header=True)\n",
    "casos_recuperados_pais.coalesce(1).write.save('s3://salidapreprocesamiento/casos_recuperados_pais/', format='csv', header=True)"
   ]
  },
  {
   "cell_type": "code",
   "execution_count": 15,
   "metadata": {},
   "outputs": [
    {
     "data": {
      "application/vnd.jupyter.widget-view+json": {
       "model_id": "9cf8b4ef481d423d8dd61b58db3c03bc",
       "version_major": 2,
       "version_minor": 0
      },
      "text/plain": [
       "VBox()"
      ]
     },
     "metadata": {},
     "output_type": "display_data"
    },
    {
     "data": {
      "application/vnd.jupyter.widget-view+json": {
       "model_id": "",
       "version_major": 2,
       "version_minor": 0
      },
      "text/plain": [
       "FloatProgress(value=0.0, bar_style='info', description='Progress:', layout=Layout(height='25px', width='50%'),…"
      ]
     },
     "metadata": {},
     "output_type": "display_data"
    },
    {
     "name": "stdout",
     "output_type": "stream",
     "text": [
      "'Long'"
     ]
    }
   ],
   "source": [
    "columnas_fechas = casos_confirmados_mundial.columns\n",
    "columnas_fechas.pop(0)\n",
    "columnas_fechas.pop(0)\n",
    "columnas_fechas.pop(0)\n",
    "columnas_fechas.pop(0)"
   ]
  },
  {
   "cell_type": "code",
   "execution_count": 16,
   "metadata": {},
   "outputs": [
    {
     "data": {
      "application/vnd.jupyter.widget-view+json": {
       "model_id": "0e7f33b4aa6f4215ac6745eeb95b8005",
       "version_major": 2,
       "version_minor": 0
      },
      "text/plain": [
       "VBox()"
      ]
     },
     "metadata": {},
     "output_type": "display_data"
    },
    {
     "data": {
      "application/vnd.jupyter.widget-view+json": {
       "model_id": "",
       "version_major": 2,
       "version_minor": 0
      },
      "text/plain": [
       "FloatProgress(value=0.0, bar_style='info', description='Progress:', layout=Layout(height='25px', width='50%'),…"
      ]
     },
     "metadata": {},
     "output_type": "display_data"
    }
   ],
   "source": [
    "confirmados_dia=casos_confirmados_mundial.select(columnas_fechas).groupBy().sum()\n",
    "muertos_dia=casos_muertes_mundial.select(columnas_fechas).groupBy().sum()\n",
    "recuperados_dia=casos_recuperados_mundial.select(columnas_fechas).groupBy().sum()"
   ]
  },
  {
   "cell_type": "code",
   "execution_count": 39,
   "metadata": {},
   "outputs": [
    {
     "data": {
      "application/vnd.jupyter.widget-view+json": {
       "model_id": "3844fb772b9a499f885ff10deef16855",
       "version_major": 2,
       "version_minor": 0
      },
      "text/plain": [
       "VBox()"
      ]
     },
     "metadata": {},
     "output_type": "display_data"
    },
    {
     "data": {
      "application/vnd.jupyter.widget-view+json": {
       "model_id": "",
       "version_major": 2,
       "version_minor": 0
      },
      "text/plain": [
       "FloatProgress(value=0.0, bar_style='info', description='Progress:', layout=Layout(height='25px', width='50%'),…"
      ]
     },
     "metadata": {},
     "output_type": "display_data"
    }
   ],
   "source": [
    "confirmados_dia.coalesce(1).write.save('s3://salidapreprocesamiento/confirmados_dia/', format='csv', header=True)\n",
    "muertos_dia.coalesce(1).write.save('s3://salidapreprocesamiento/muertos_dia/', format='csv', header=True)\n",
    "recuperados_dia.coalesce(1).write.save('s3://salidapreprocesamiento/recuperados_dia/', format='csv', header=True)"
   ]
  },
  {
   "cell_type": "code",
   "execution_count": null,
   "metadata": {},
   "outputs": [],
   "source": []
  },
  {
   "cell_type": "code",
   "execution_count": 17,
   "metadata": {},
   "outputs": [
    {
     "data": {
      "application/vnd.jupyter.widget-view+json": {
       "model_id": "d0a4f6204be1437d8a866fbd877a0058",
       "version_major": 2,
       "version_minor": 0
      },
      "text/plain": [
       "VBox()"
      ]
     },
     "metadata": {},
     "output_type": "display_data"
    },
    {
     "data": {
      "application/vnd.jupyter.widget-view+json": {
       "model_id": "",
       "version_major": 2,
       "version_minor": 0
      },
      "text/plain": [
       "FloatProgress(value=0.0, bar_style='info', description='Progress:', layout=Layout(height='25px', width='50%'),…"
      ]
     },
     "metadata": {},
     "output_type": "display_data"
    },
    {
     "name": "stdout",
     "output_type": "stream",
     "text": [
      "+--------------+-----------+------+--------------------+\n",
      "|Country/Region|sum(5/8/20)| total|          porcentaje|\n",
      "+--------------+-----------+------+--------------------+\n",
      "|          Chad|         28|274898|0.010185596112012456|\n",
      "|      Paraguay|         10|274898|0.003637712897147...|\n",
      "|        Russia|       1723|274898|  0.6267779321784808|\n",
      "|         Yemen|          7|274898|0.002546399028003114|\n",
      "|       Senegal|         13|274898|0.004729026766291497|\n",
      "|    Cabo Verde|          2|274898|7.275425794294611E-4|\n",
      "|        Sweden|       3175|274898|  1.1549738448442695|\n",
      "|        Guyana|         10|274898|0.003637712897147...|\n",
      "|       Eritrea|          0|274898|                 0.0|\n",
      "|   Philippines|        696|274898| 0.25318481764145245|\n",
      "|         Burma|          6|274898|0.002182627738288...|\n",
      "|      Djibouti|          3|274898|0.001091313869144...|\n",
      "|      Malaysia|        107|274898| 0.03892352799947617|\n",
      "|     Singapore|         20|274898|0.007275425794294611|\n",
      "|          Fiji|          0|274898|                 0.0|\n",
      "|        Turkey|       3689|274898|   1.341952287757641|\n",
      "|        Malawi|          3|274898|0.001091313869144...|\n",
      "|Western Sahara|          0|274898|                 0.0|\n",
      "|          Iraq|        104|274898| 0.03783221413033198|\n",
      "|       Germany|       7510|274898|  2.7319223857576262|\n",
      "+--------------+-----------+------+--------------------+\n",
      "only showing top 20 rows"
     ]
    }
   ],
   "source": [
    "import pyspark.sql.functions as f\n",
    "from pyspark.sql.window import Window\n",
    "porcentaje_muertos_pais= casos_muertes_mundial.groupby('Country/Region').sum('5/8/20')\n",
    "porcentaje_muertos_pais = porcentaje_muertos_pais\\\n",
    "  .withColumn('total', f.sum('sum(5/8/20)').over(Window.partitionBy()))\\\n",
    "  .withColumn('porcentaje', (f.col('sum(5/8/20)')/f.col('total'))*100)\n",
    "porcentaje_muertos_pais.show()"
   ]
  },
  {
   "cell_type": "code",
   "execution_count": 18,
   "metadata": {},
   "outputs": [
    {
     "data": {
      "application/vnd.jupyter.widget-view+json": {
       "model_id": "2039d3d92a4f41daadadb3f6737e7821",
       "version_major": 2,
       "version_minor": 0
      },
      "text/plain": [
       "VBox()"
      ]
     },
     "metadata": {},
     "output_type": "display_data"
    },
    {
     "data": {
      "application/vnd.jupyter.widget-view+json": {
       "model_id": "",
       "version_major": 2,
       "version_minor": 0
      },
      "text/plain": [
       "FloatProgress(value=0.0, bar_style='info', description='Progress:', layout=Layout(height='25px', width='50%'),…"
      ]
     },
     "metadata": {},
     "output_type": "display_data"
    }
   ],
   "source": [
    "porcentaje_muertos_pais.coalesce(1).write.save('s3://salidapreprocesamiento/porcentaje_muertos_pais/', format='csv', header=True)"
   ]
  },
  {
   "cell_type": "code",
   "execution_count": 19,
   "metadata": {},
   "outputs": [
    {
     "data": {
      "application/vnd.jupyter.widget-view+json": {
       "model_id": "dedd8d156a8d4618a15c79f1b2ece602",
       "version_major": 2,
       "version_minor": 0
      },
      "text/plain": [
       "VBox()"
      ]
     },
     "metadata": {},
     "output_type": "display_data"
    },
    {
     "data": {
      "application/vnd.jupyter.widget-view+json": {
       "model_id": "",
       "version_major": 2,
       "version_minor": 0
      },
      "text/plain": [
       "FloatProgress(value=0.0, bar_style='info', description='Progress:', layout=Layout(height='25px', width='50%'),…"
      ]
     },
     "metadata": {},
     "output_type": "display_data"
    },
    {
     "name": "stdout",
     "output_type": "stream",
     "text": [
      "+--------------+-----------+-------+--------------------+\n",
      "|Country/Region|sum(5/8/20)|  total|          porcentaje|\n",
      "+--------------+-----------+-------+--------------------+\n",
      "|          Chad|        260|3938064|0.006602228912480854|\n",
      "|      Paraguay|        563|3938064| 0.01429636491433354|\n",
      "|        Russia|     187859|3938064|   4.770338927960541|\n",
      "|         Yemen|         34|3938064|8.633683962474963E-4|\n",
      "|       Senegal|       1551|3938064| 0.03938483478176079|\n",
      "|    Cabo Verde|        230|3938064|0.005840433268733063|\n",
      "|        Sweden|      25265|3938064|  0.6415588979762645|\n",
      "|        Guyana|         94|3938064|0.002386959683743...|\n",
      "|       Eritrea|         39|3938064|9.903343368721281E-4|\n",
      "|   Philippines|      10463|3938064|  0.2656889273511045|\n",
      "|         Burma|        177|3938064|0.004494594298111966|\n",
      "|      Djibouti|       1135|3938064| 0.02882126852179142|\n",
      "|      Malaysia|       6535|3938064| 0.16594448439639375|\n",
      "|     Singapore|      21707|3938064|  0.5512099346277765|\n",
      "|          Fiji|         18|3938064|4.570773862486745E-4|\n",
      "|        Turkey|     135569|3938064|  3.4425291209081417|\n",
      "|        Malawi|         43|3938064|0.001091907089371...|\n",
      "|Western Sahara|          6|3938064|1.523591287495581...|\n",
      "|          Iraq|       2603|3938064| 0.06609846868918332|\n",
      "|       Germany|     170588|3938064|   4.331773175854938|\n",
      "+--------------+-----------+-------+--------------------+\n",
      "only showing top 20 rows"
     ]
    }
   ],
   "source": [
    "porcentaje_confirmados_pais= casos_confirmados_mundial.groupby('Country/Region').sum('5/8/20')\n",
    "porcentaje_confirmados_pais = porcentaje_confirmados_pais\\\n",
    "  .withColumn('total', f.sum('sum(5/8/20)').over(Window.partitionBy()))\\\n",
    "  .withColumn('porcentaje', (f.col('sum(5/8/20)')/f.col('total'))*100)\n",
    "porcentaje_confirmados_pais.show()"
   ]
  },
  {
   "cell_type": "code",
   "execution_count": 20,
   "metadata": {},
   "outputs": [
    {
     "data": {
      "application/vnd.jupyter.widget-view+json": {
       "model_id": "f1efd263a80d4a9487ca2127f03ca689",
       "version_major": 2,
       "version_minor": 0
      },
      "text/plain": [
       "VBox()"
      ]
     },
     "metadata": {},
     "output_type": "display_data"
    },
    {
     "data": {
      "application/vnd.jupyter.widget-view+json": {
       "model_id": "",
       "version_major": 2,
       "version_minor": 0
      },
      "text/plain": [
       "FloatProgress(value=0.0, bar_style='info', description='Progress:', layout=Layout(height='25px', width='50%'),…"
      ]
     },
     "metadata": {},
     "output_type": "display_data"
    }
   ],
   "source": [
    "porcentaje_confirmados_pais.coalesce(1).write.save('s3://salidapreprocesamiento/porcentaje_confirmados_pais/', format='csv', header=True)"
   ]
  },
  {
   "cell_type": "code",
   "execution_count": 21,
   "metadata": {},
   "outputs": [
    {
     "data": {
      "application/vnd.jupyter.widget-view+json": {
       "model_id": "f6da2e0dc8f749e2893dfc8a66677bed",
       "version_major": 2,
       "version_minor": 0
      },
      "text/plain": [
       "VBox()"
      ]
     },
     "metadata": {},
     "output_type": "display_data"
    },
    {
     "data": {
      "application/vnd.jupyter.widget-view+json": {
       "model_id": "",
       "version_major": 2,
       "version_minor": 0
      },
      "text/plain": [
       "FloatProgress(value=0.0, bar_style='info', description='Progress:', layout=Layout(height='25px', width='50%'),…"
      ]
     },
     "metadata": {},
     "output_type": "display_data"
    },
    {
     "name": "stdout",
     "output_type": "stream",
     "text": [
      "+--------------+-----------+-------+--------------------+\n",
      "|Country/Region|sum(5/8/20)|  total|          porcentaje|\n",
      "+--------------+-----------+-------+--------------------+\n",
      "|          Chad|         50|1322050|0.003782005219167...|\n",
      "|      Paraguay|        152|1322050|0.011497295866268294|\n",
      "|        Russia|      26608|1322050|  2.0126318974320183|\n",
      "|         Yemen|          1|1322050|7.564010438334405E-5|\n",
      "|       Senegal|        611|1322050|0.046216103778223216|\n",
      "|    Cabo Verde|         44|1322050|0.003328164592867138|\n",
      "|        Sweden|       4971|1322050|  0.3760069588896033|\n",
      "|        Guyana|         35|1322050|0.002647403653417042|\n",
      "|       Eritrea|         37|1322050|0.002798683862183...|\n",
      "|   Philippines|       1734|1322050|  0.1311599410007186|\n",
      "|         Burma|         67|1322050|0.005067886993684...|\n",
      "|      Djibouti|        824|1322050|  0.0623274460118755|\n",
      "|      Malaysia|       4864|1322050|  0.3679134677205854|\n",
      "|     Singapore|       2040|1322050| 0.15430581294202186|\n",
      "|          Fiji|         14|1322050|0.001058961461366...|\n",
      "|        Turkey|      86396|1322050|   6.535002458303392|\n",
      "|        Malawi|         14|1322050|0.001058961461366...|\n",
      "|Western Sahara|          5|1322050|3.782005219167202...|\n",
      "|          Iraq|       1661|1322050| 0.12563821338073447|\n",
      "|       Germany|     141700|1322050|  10.718202791119852|\n",
      "+--------------+-----------+-------+--------------------+\n",
      "only showing top 20 rows"
     ]
    }
   ],
   "source": [
    "porcentaje_recuperados_pais= casos_recuperados_mundial.groupby('Country/Region').sum('5/8/20')\n",
    "porcentaje_recuperados_pais = porcentaje_recuperados_pais\\\n",
    "  .withColumn('total', f.sum('sum(5/8/20)').over(Window.partitionBy()))\\\n",
    "  .withColumn('porcentaje', (f.col('sum(5/8/20)')/f.col('total'))*100)\n",
    "porcentaje_recuperados_pais.show()"
   ]
  },
  {
   "cell_type": "code",
   "execution_count": 22,
   "metadata": {},
   "outputs": [
    {
     "data": {
      "application/vnd.jupyter.widget-view+json": {
       "model_id": "5a389b84530f42c8867850ef8b1c756b",
       "version_major": 2,
       "version_minor": 0
      },
      "text/plain": [
       "VBox()"
      ]
     },
     "metadata": {},
     "output_type": "display_data"
    },
    {
     "data": {
      "application/vnd.jupyter.widget-view+json": {
       "model_id": "",
       "version_major": 2,
       "version_minor": 0
      },
      "text/plain": [
       "FloatProgress(value=0.0, bar_style='info', description='Progress:', layout=Layout(height='25px', width='50%'),…"
      ]
     },
     "metadata": {},
     "output_type": "display_data"
    }
   ],
   "source": [
    "porcentaje_recuperados_pais.coalesce(1).write.save('s3://salidapreprocesamiento/porcentaje_recuperados_pais/', format='csv', header=True)"
   ]
  },
  {
   "cell_type": "code",
   "execution_count": 23,
   "metadata": {},
   "outputs": [
    {
     "data": {
      "application/vnd.jupyter.widget-view+json": {
       "model_id": "6a7160295d804f4e9f00d27db9b42355",
       "version_major": 2,
       "version_minor": 0
      },
      "text/plain": [
       "VBox()"
      ]
     },
     "metadata": {},
     "output_type": "display_data"
    },
    {
     "data": {
      "application/vnd.jupyter.widget-view+json": {
       "model_id": "",
       "version_major": 2,
       "version_minor": 0
      },
      "text/plain": [
       "FloatProgress(value=0.0, bar_style='info', description='Progress:', layout=Layout(height='25px', width='50%'),…"
      ]
     },
     "metadata": {},
     "output_type": "display_data"
    }
   ],
   "source": [
    "#Procesamiento Colombia"
   ]
  },
  {
   "cell_type": "code",
   "execution_count": 24,
   "metadata": {},
   "outputs": [
    {
     "data": {
      "application/vnd.jupyter.widget-view+json": {
       "model_id": "7598bb6b383a4e3782b04500d1b075ad",
       "version_major": 2,
       "version_minor": 0
      },
      "text/plain": [
       "VBox()"
      ]
     },
     "metadata": {},
     "output_type": "display_data"
    },
    {
     "data": {
      "application/vnd.jupyter.widget-view+json": {
       "model_id": "",
       "version_major": 2,
       "version_minor": 0
      },
      "text/plain": [
       "FloatProgress(value=0.0, bar_style='info', description='Progress:', layout=Layout(height='25px', width='50%'),…"
      ]
     },
     "metadata": {},
     "output_type": "display_data"
    },
    {
     "name": "stdout",
     "output_type": "stream",
     "text": [
      "root\n",
      " |-- ID de caso: string (nullable = true)\n",
      " |-- Fecha de notificación: string (nullable = true)\n",
      " |-- Codigo DIVIPOLA: string (nullable = true)\n",
      " |-- Ciudad de ubicación: string (nullable = true)\n",
      " |-- Departamento o Distrito : string (nullable = true)\n",
      " |-- atención: string (nullable = true)\n",
      " |-- Edad: string (nullable = true)\n",
      " |-- Sexo: string (nullable = true)\n",
      " |-- Tipo: string (nullable = true)\n",
      " |-- Estado: string (nullable = true)\n",
      " |-- País de procedencia: string (nullable = true)\n",
      " |-- FIS: string (nullable = true)\n",
      " |-- Fecha de muerte: string (nullable = true)\n",
      " |-- Fecha diagnostico: string (nullable = true)\n",
      " |-- Fecha recuperado: string (nullable = true)\n",
      " |-- fecha reporte web: string (nullable = true)"
     ]
    }
   ],
   "source": [
    "casos_colombia.printSchema()"
   ]
  },
  {
   "cell_type": "code",
   "execution_count": 25,
   "metadata": {},
   "outputs": [
    {
     "data": {
      "application/vnd.jupyter.widget-view+json": {
       "model_id": "cbae1c21d1ab4af28d18f64fe6c2c254",
       "version_major": 2,
       "version_minor": 0
      },
      "text/plain": [
       "VBox()"
      ]
     },
     "metadata": {},
     "output_type": "display_data"
    },
    {
     "data": {
      "application/vnd.jupyter.widget-view+json": {
       "model_id": "",
       "version_major": 2,
       "version_minor": 0
      },
      "text/plain": [
       "FloatProgress(value=0.0, bar_style='info', description='Progress:', layout=Layout(height='25px', width='50%'),…"
      ]
     },
     "metadata": {},
     "output_type": "display_data"
    }
   ],
   "source": [
    "contagiados_colombia = casos_colombia.count()"
   ]
  },
  {
   "cell_type": "code",
   "execution_count": 30,
   "metadata": {},
   "outputs": [
    {
     "data": {
      "application/vnd.jupyter.widget-view+json": {
       "model_id": "9b16e0f74c184eb2b09d79d2a768513e",
       "version_major": 2,
       "version_minor": 0
      },
      "text/plain": [
       "VBox()"
      ]
     },
     "metadata": {},
     "output_type": "display_data"
    },
    {
     "data": {
      "application/vnd.jupyter.widget-view+json": {
       "model_id": "",
       "version_major": 2,
       "version_minor": 0
      },
      "text/plain": [
       "FloatProgress(value=0.0, bar_style='info', description='Progress:', layout=Layout(height='25px', width='50%'),…"
      ]
     },
     "metadata": {},
     "output_type": "display_data"
    }
   ],
   "source": [
    "contagiados_colombia_total = spark.createDataFrame([(contagiados_colombia ,'COL'),],['Cantidad de contagios','Pais'] )\n",
    "contagiados_colombia_total.coalesce(1).write.save('s3://salidapreprocesamiento/contagiados_colombia_total/', format='csv', header=True)"
   ]
  },
  {
   "cell_type": "code",
   "execution_count": 26,
   "metadata": {},
   "outputs": [
    {
     "data": {
      "application/vnd.jupyter.widget-view+json": {
       "model_id": "394fbb894564404f80bc8355bcdb8dd0",
       "version_major": 2,
       "version_minor": 0
      },
      "text/plain": [
       "VBox()"
      ]
     },
     "metadata": {},
     "output_type": "display_data"
    },
    {
     "data": {
      "application/vnd.jupyter.widget-view+json": {
       "model_id": "",
       "version_major": 2,
       "version_minor": 0
      },
      "text/plain": [
       "FloatProgress(value=0.0, bar_style='info', description='Progress:', layout=Layout(height='25px', width='50%'),…"
      ]
     },
     "metadata": {},
     "output_type": "display_data"
    },
    {
     "name": "stderr",
     "output_type": "stream",
     "text": [
      "'int' object has no attribute 'coalesce'\n",
      "Traceback (most recent call last):\n",
      "AttributeError: 'int' object has no attribute 'coalesce'\n",
      "\n"
     ]
    }
   ],
   "source": []
  },
  {
   "cell_type": "code",
   "execution_count": 32,
   "metadata": {},
   "outputs": [
    {
     "data": {
      "application/vnd.jupyter.widget-view+json": {
       "model_id": "a91e335fc7b141dfbd644f1bd1d31063",
       "version_major": 2,
       "version_minor": 0
      },
      "text/plain": [
       "VBox()"
      ]
     },
     "metadata": {},
     "output_type": "display_data"
    },
    {
     "data": {
      "application/vnd.jupyter.widget-view+json": {
       "model_id": "",
       "version_major": 2,
       "version_minor": 0
      },
      "text/plain": [
       "FloatProgress(value=0.0, bar_style='info', description='Progress:', layout=Layout(height='25px', width='50%'),…"
      ]
     },
     "metadata": {},
     "output_type": "display_data"
    }
   ],
   "source": [
    "casos_activos=casos_colombia.filter(casos_colombia['Fecha recuperado']== \"-   -\").count()\n",
    "recuperados=contagiados_colombia-casos_activos"
   ]
  },
  {
   "cell_type": "code",
   "execution_count": 33,
   "metadata": {},
   "outputs": [
    {
     "data": {
      "application/vnd.jupyter.widget-view+json": {
       "model_id": "c45152f95bef467b9687c8356ee27c51",
       "version_major": 2,
       "version_minor": 0
      },
      "text/plain": [
       "VBox()"
      ]
     },
     "metadata": {},
     "output_type": "display_data"
    },
    {
     "data": {
      "application/vnd.jupyter.widget-view+json": {
       "model_id": "",
       "version_major": 2,
       "version_minor": 0
      },
      "text/plain": [
       "FloatProgress(value=0.0, bar_style='info', description='Progress:', layout=Layout(height='25px', width='50%'),…"
      ]
     },
     "metadata": {},
     "output_type": "display_data"
    }
   ],
   "source": [
    "recuperados_colombia_total = spark.createDataFrame([(recuperados ,'COL'),],['Cantidad de Recuperados','Pais'] )\n",
    "recuperados_colombia_total.coalesce(1).write.save('s3://salidapreprocesamiento/recuperados_colombia_total/', format='csv', header=True)"
   ]
  },
  {
   "cell_type": "code",
   "execution_count": 34,
   "metadata": {},
   "outputs": [
    {
     "data": {
      "application/vnd.jupyter.widget-view+json": {
       "model_id": "fecb6b7de7c94b2cbdd77b176640b847",
       "version_major": 2,
       "version_minor": 0
      },
      "text/plain": [
       "VBox()"
      ]
     },
     "metadata": {},
     "output_type": "display_data"
    },
    {
     "data": {
      "application/vnd.jupyter.widget-view+json": {
       "model_id": "",
       "version_major": 2,
       "version_minor": 0
      },
      "text/plain": [
       "FloatProgress(value=0.0, bar_style='info', description='Progress:', layout=Layout(height='25px', width='50%'),…"
      ]
     },
     "metadata": {},
     "output_type": "display_data"
    },
    {
     "name": "stdout",
     "output_type": "stream",
     "text": [
      "435"
     ]
    }
   ],
   "source": [
    "muertes=casos_colombia.filter(casos_colombia['Fecha de muerte']!= \"-   -\").count()\n",
    "muertes"
   ]
  },
  {
   "cell_type": "code",
   "execution_count": 35,
   "metadata": {},
   "outputs": [
    {
     "data": {
      "application/vnd.jupyter.widget-view+json": {
       "model_id": "2f38302b34024e71acf8ec3915c30a4a",
       "version_major": 2,
       "version_minor": 0
      },
      "text/plain": [
       "VBox()"
      ]
     },
     "metadata": {},
     "output_type": "display_data"
    },
    {
     "data": {
      "application/vnd.jupyter.widget-view+json": {
       "model_id": "",
       "version_major": 2,
       "version_minor": 0
      },
      "text/plain": [
       "FloatProgress(value=0.0, bar_style='info', description='Progress:', layout=Layout(height='25px', width='50%'),…"
      ]
     },
     "metadata": {},
     "output_type": "display_data"
    }
   ],
   "source": [
    "muertes_colombia_total = spark.createDataFrame([(muertes ,'COL'),],['Cantidad de muertes','Pais'] )\n",
    "muertes_colombia_total.coalesce(1).write.save('s3://salidapreprocesamiento/muertes_colombia_total/', format='csv', header=True)"
   ]
  },
  {
   "cell_type": "code",
   "execution_count": 37,
   "metadata": {},
   "outputs": [
    {
     "data": {
      "application/vnd.jupyter.widget-view+json": {
       "model_id": "0927ee0092b94b20a0fff4d442c7d30a",
       "version_major": 2,
       "version_minor": 0
      },
      "text/plain": [
       "VBox()"
      ]
     },
     "metadata": {},
     "output_type": "display_data"
    },
    {
     "data": {
      "application/vnd.jupyter.widget-view+json": {
       "model_id": "",
       "version_major": 2,
       "version_minor": 0
      },
      "text/plain": [
       "FloatProgress(value=0.0, bar_style='info', description='Progress:', layout=Layout(height='25px', width='50%'),…"
      ]
     },
     "metadata": {},
     "output_type": "display_data"
    },
    {
     "name": "stdout",
     "output_type": "stream",
     "text": [
      "826"
     ]
    }
   ],
   "source": [
    "menores_de_edad=casos_colombia.filter(casos_colombia['Edad']< 18).count()\n",
    "menores_de_edad"
   ]
  },
  {
   "cell_type": "code",
   "execution_count": 38,
   "metadata": {},
   "outputs": [
    {
     "data": {
      "application/vnd.jupyter.widget-view+json": {
       "model_id": "93584f4e72fc4df7a79b37251fcdb248",
       "version_major": 2,
       "version_minor": 0
      },
      "text/plain": [
       "VBox()"
      ]
     },
     "metadata": {},
     "output_type": "display_data"
    },
    {
     "data": {
      "application/vnd.jupyter.widget-view+json": {
       "model_id": "",
       "version_major": 2,
       "version_minor": 0
      },
      "text/plain": [
       "FloatProgress(value=0.0, bar_style='info', description='Progress:', layout=Layout(height='25px', width='50%'),…"
      ]
     },
     "metadata": {},
     "output_type": "display_data"
    },
    {
     "name": "stdout",
     "output_type": "stream",
     "text": [
      "7618"
     ]
    }
   ],
   "source": [
    "adultos=casos_colombia.filter((casos_colombia['Edad']>= 18) & (casos_colombia['Edad']<60)).count()\n",
    "adultos"
   ]
  },
  {
   "cell_type": "code",
   "execution_count": 39,
   "metadata": {},
   "outputs": [
    {
     "data": {
      "application/vnd.jupyter.widget-view+json": {
       "model_id": "d3b363b44ee74b42b4d1e89df5cd2852",
       "version_major": 2,
       "version_minor": 0
      },
      "text/plain": [
       "VBox()"
      ]
     },
     "metadata": {},
     "output_type": "display_data"
    },
    {
     "data": {
      "application/vnd.jupyter.widget-view+json": {
       "model_id": "",
       "version_major": 2,
       "version_minor": 0
      },
      "text/plain": [
       "FloatProgress(value=0.0, bar_style='info', description='Progress:', layout=Layout(height='25px', width='50%'),…"
      ]
     },
     "metadata": {},
     "output_type": "display_data"
    },
    {
     "name": "stdout",
     "output_type": "stream",
     "text": [
      "1607"
     ]
    }
   ],
   "source": [
    "adultos_mayores=casos_colombia.filter(casos_colombia['Edad']>=60).count()\n",
    "adultos_mayores"
   ]
  },
  {
   "cell_type": "code",
   "execution_count": 41,
   "metadata": {},
   "outputs": [
    {
     "data": {
      "application/vnd.jupyter.widget-view+json": {
       "model_id": "195dba7abc8f4a11992f6d4246e83f9a",
       "version_major": 2,
       "version_minor": 0
      },
      "text/plain": [
       "VBox()"
      ]
     },
     "metadata": {},
     "output_type": "display_data"
    },
    {
     "data": {
      "application/vnd.jupyter.widget-view+json": {
       "model_id": "",
       "version_major": 2,
       "version_minor": 0
      },
      "text/plain": [
       "FloatProgress(value=0.0, bar_style='info', description='Progress:', layout=Layout(height='25px', width='50%'),…"
      ]
     },
     "metadata": {},
     "output_type": "display_data"
    }
   ],
   "source": [
    "menores_de_edad_colombia_total = spark.createDataFrame([(menores_de_edad ,'COL'),],['Cantidad de menores_de_edad','Pais'] )\n",
    "menores_de_edad_colombia_total.coalesce(1).write.save('s3://salidapreprocesamiento/menores_de_edad_colombia_total/', format='csv', header=True)\n",
    "adultos = spark.createDataFrame([(adultos ,'COL'),],['Cantidad de adultos','Pais'] )\n",
    "adultos.coalesce(1).write.save('s3://salidapreprocesamiento/adultos_colombia_total/', format='csv', header=True)\n",
    "adultos_mayores_colombia_total = spark.createDataFrame([(adultos_mayores ,'COL'),],['Cantidad de adultos_mayores','Pais'] )\n",
    "adultos_mayores_colombia_total.coalesce(1).write.save('s3://salidapreprocesamiento/adultos_mayores_colombia_total/', format='csv', header=True)"
   ]
  },
  {
   "cell_type": "code",
   "execution_count": 42,
   "metadata": {},
   "outputs": [
    {
     "data": {
      "application/vnd.jupyter.widget-view+json": {
       "model_id": "a0b16c157146456383225b2329ef19f2",
       "version_major": 2,
       "version_minor": 0
      },
      "text/plain": [
       "VBox()"
      ]
     },
     "metadata": {},
     "output_type": "display_data"
    },
    {
     "data": {
      "application/vnd.jupyter.widget-view+json": {
       "model_id": "",
       "version_major": 2,
       "version_minor": 0
      },
      "text/plain": [
       "FloatProgress(value=0.0, bar_style='info', description='Progress:', layout=Layout(height='25px', width='50%'),…"
      ]
     },
     "metadata": {},
     "output_type": "display_data"
    }
   ],
   "source": [
    "colombia_departamento = casos_colombia.groupBy('Departamento o Distrito ').count()"
   ]
  },
  {
   "cell_type": "code",
   "execution_count": 43,
   "metadata": {},
   "outputs": [
    {
     "data": {
      "application/vnd.jupyter.widget-view+json": {
       "model_id": "d515303854eb429ebe67551f022b1f66",
       "version_major": 2,
       "version_minor": 0
      },
      "text/plain": [
       "VBox()"
      ]
     },
     "metadata": {},
     "output_type": "display_data"
    },
    {
     "data": {
      "application/vnd.jupyter.widget-view+json": {
       "model_id": "",
       "version_major": 2,
       "version_minor": 0
      },
      "text/plain": [
       "FloatProgress(value=0.0, bar_style='info', description='Progress:', layout=Layout(height='25px', width='50%'),…"
      ]
     },
     "metadata": {},
     "output_type": "display_data"
    }
   ],
   "source": [
    "colombia_departamento.coalesce(1).write.save('s3://salidapreprocesamiento/contagiados_departamento_colombia_total/', format='csv', header=True)"
   ]
  },
  {
   "cell_type": "code",
   "execution_count": 44,
   "metadata": {},
   "outputs": [
    {
     "data": {
      "application/vnd.jupyter.widget-view+json": {
       "model_id": "f0232fa5d90042a2b25f9126fe449a43",
       "version_major": 2,
       "version_minor": 0
      },
      "text/plain": [
       "VBox()"
      ]
     },
     "metadata": {},
     "output_type": "display_data"
    },
    {
     "data": {
      "application/vnd.jupyter.widget-view+json": {
       "model_id": "",
       "version_major": 2,
       "version_minor": 0
      },
      "text/plain": [
       "FloatProgress(value=0.0, bar_style='info', description='Progress:', layout=Layout(height='25px', width='50%'),…"
      ]
     },
     "metadata": {},
     "output_type": "display_data"
    }
   ],
   "source": [
    "from pyspark.sql.functions import desc, asc, col\n",
    "colombia_contagiados_dia = casos_colombia.groupBy('Fecha de notificación').count().sort(col('Fecha de notificación'))"
   ]
  },
  {
   "cell_type": "code",
   "execution_count": null,
   "metadata": {},
   "outputs": [],
   "source": []
  },
  {
   "cell_type": "code",
   "execution_count": 45,
   "metadata": {},
   "outputs": [
    {
     "data": {
      "application/vnd.jupyter.widget-view+json": {
       "model_id": "4ada094815674d1c905ce1e3599f57c6",
       "version_major": 2,
       "version_minor": 0
      },
      "text/plain": [
       "VBox()"
      ]
     },
     "metadata": {},
     "output_type": "display_data"
    },
    {
     "data": {
      "application/vnd.jupyter.widget-view+json": {
       "model_id": "",
       "version_major": 2,
       "version_minor": 0
      },
      "text/plain": [
       "FloatProgress(value=0.0, bar_style='info', description='Progress:', layout=Layout(height='25px', width='50%'),…"
      ]
     },
     "metadata": {},
     "output_type": "display_data"
    },
    {
     "name": "stdout",
     "output_type": "stream",
     "text": [
      "+---------------------+-----+------+\n",
      "|Fecha de notificación|count|cumsum|\n",
      "+---------------------+-----+------+\n",
      "|   #date+notification|    1|     1|\n",
      "| 2020-03-02T00:00:...|    1|     2|\n",
      "| 2020-03-06T00:00:...|    1|     3|\n",
      "| 2020-03-07T00:00:...|    1|     4|\n",
      "| 2020-03-08T00:00:...|    2|     6|\n",
      "| 2020-03-09T00:00:...|    3|     9|\n",
      "| 2020-03-10T00:00:...|    4|    13|\n",
      "| 2020-03-11T00:00:...|    8|    21|\n",
      "| 2020-03-12T00:00:...|   12|    33|\n",
      "| 2020-03-13T00:00:...|   13|    46|\n",
      "| 2020-03-14T00:00:...|   20|    66|\n",
      "| 2020-03-15T00:00:...|   19|    85|\n",
      "| 2020-03-16T00:00:...|   28|   113|\n",
      "| 2020-03-17T00:00:...|   42|   155|\n",
      "| 2020-03-18T00:00:...|   44|   199|\n",
      "| 2020-03-19T00:00:...|   70|   269|\n",
      "| 2020-03-20T00:00:...|   76|   345|\n",
      "| 2020-03-21T00:00:...|   77|   422|\n",
      "| 2020-03-22T00:00:...|   81|   503|\n",
      "| 2020-03-23T00:00:...|   93|   596|\n",
      "+---------------------+-----+------+\n",
      "only showing top 20 rows"
     ]
    }
   ],
   "source": [
    "from pyspark.sql import functions as f\n",
    "import sys\n",
    "cum_sum = colombia_contagiados_dia.withColumn('cumsum', f.sum(colombia_contagiados_dia[\"count\"]).over(Window.partitionBy().orderBy().rowsBetween(-sys.maxsize, 0)))\n",
    "cum_sum.show()"
   ]
  },
  {
   "cell_type": "code",
   "execution_count": 46,
   "metadata": {},
   "outputs": [
    {
     "data": {
      "application/vnd.jupyter.widget-view+json": {
       "model_id": "783c7834eb804bf0ba71f74c7a3e485d",
       "version_major": 2,
       "version_minor": 0
      },
      "text/plain": [
       "VBox()"
      ]
     },
     "metadata": {},
     "output_type": "display_data"
    },
    {
     "data": {
      "application/vnd.jupyter.widget-view+json": {
       "model_id": "",
       "version_major": 2,
       "version_minor": 0
      },
      "text/plain": [
       "FloatProgress(value=0.0, bar_style='info', description='Progress:', layout=Layout(height='25px', width='50%'),…"
      ]
     },
     "metadata": {},
     "output_type": "display_data"
    }
   ],
   "source": [
    "cum_sum.coalesce(1).write.save('s3://salidapreprocesamiento/casos_acumulados_fechas_colombia/', format='csv', header=True)"
   ]
  }
 ],
 "metadata": {
  "kernelspec": {
   "display_name": "PySpark",
   "language": "",
   "name": "pysparkkernel"
  },
  "language_info": {
   "codemirror_mode": {
    "name": "python",
    "version": 2
   },
   "mimetype": "text/x-python",
   "name": "pyspark",
   "pygments_lexer": "python2"
  }
 },
 "nbformat": 4,
 "nbformat_minor": 4
}
